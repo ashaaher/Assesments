{
  "nbformat": 4,
  "nbformat_minor": 0,
  "metadata": {
    "colab": {
      "name": "8*8.ipynb",
      "provenance": [],
      "collapsed_sections": []
    },
    "kernelspec": {
      "name": "python3",
      "display_name": "Python 3"
    }
  },
  "cells": [
    {
      "cell_type": "markdown",
      "metadata": {
        "id": "G458cHnSEzzf",
        "colab_type": "text"
      },
      "source": [
        "Importing Required Libraries "
      ]
    },
    {
      "cell_type": "code",
      "metadata": {
        "id": "l8k52LoHE3fu",
        "colab_type": "code",
        "colab": {
          "base_uri": "https://localhost:8080/",
          "height": 136
        },
        "outputId": "30a33e3d-c0b9-4fd8-a799-2cc3d85d152d"
      },
      "source": [
        "import pandas as pd\n",
        "import numpy as np\n",
        "from google.colab import drive\n",
        "import re\n",
        "import nltk\n",
        "nltk.download('punkt')\n",
        "import re\n",
        "import nltk\n",
        "nltk.download('stopwords')\n",
        "from nltk.corpus import stopwords\n",
        "from nltk.stem.porter import PorterStemmer\n",
        "from nltk.tokenize import RegexpTokenizer\n",
        "from nltk.stem.wordnet import WordNetLemmatizer\n",
        "import nltk\n",
        "nltk.download('wordnet')\n",
        "#nltk.download()"
      ],
      "execution_count": 28,
      "outputs": [
        {
          "output_type": "stream",
          "text": [
            "[nltk_data] Downloading package punkt to /root/nltk_data...\n",
            "[nltk_data]   Package punkt is already up-to-date!\n",
            "[nltk_data] Downloading package stopwords to /root/nltk_data...\n",
            "[nltk_data]   Package stopwords is already up-to-date!\n",
            "[nltk_data] Downloading package wordnet to /root/nltk_data...\n",
            "[nltk_data]   Package wordnet is already up-to-date!\n"
          ],
          "name": "stdout"
        },
        {
          "output_type": "execute_result",
          "data": {
            "text/plain": [
              "True"
            ]
          },
          "metadata": {
            "tags": []
          },
          "execution_count": 28
        }
      ]
    },
    {
      "cell_type": "code",
      "metadata": {
        "id": "t7jJgaTL3YX9",
        "colab_type": "code",
        "colab": {}
      },
      "source": [
        "!pip install -U -q PyDrive\n",
        "from pydrive.auth import GoogleAuth\n",
        "from pydrive.drive import GoogleDrive\n",
        "from google.colab import auth\n",
        "from oauth2client.client import GoogleCredentials"
      ],
      "execution_count": 0,
      "outputs": []
    },
    {
      "cell_type": "markdown",
      "metadata": {
        "id": "bYPE1BsrE7qD",
        "colab_type": "text"
      },
      "source": [
        "Downloading the csv file "
      ]
    },
    {
      "cell_type": "code",
      "metadata": {
        "id": "w-B-UUgODo00",
        "colab_type": "code",
        "colab": {}
      },
      "source": [
        "auth.authenticate_user()\n",
        "gauth = GoogleAuth()\n",
        "gauth.credentials = GoogleCredentials.get_application_default()\n",
        "drive = GoogleDrive(gauth)"
      ],
      "execution_count": 0,
      "outputs": []
    },
    {
      "cell_type": "code",
      "metadata": {
        "id": "s6Basp6NDsfa",
        "colab_type": "code",
        "colab": {}
      },
      "source": [
        "link = 'https://drive.google.com/open?id=14kJqcWkvGZkEI1OL8b9tUwBv-Zble5Bx'\n",
        "fluff, id = link.split('=')\n",
        "# Download the csv file.\n",
        "downloaded = drive.CreateFile({'id':id}) \n",
        "downloaded.GetContentFile('8*8.csv')"
      ],
      "execution_count": 0,
      "outputs": []
    },
    {
      "cell_type": "code",
      "metadata": {
        "id": "pJzy1yQZEH-b",
        "colab_type": "code",
        "colab": {}
      },
      "source": [
        "data = pd.read_csv('8*8.csv')"
      ],
      "execution_count": 0,
      "outputs": []
    },
    {
      "cell_type": "code",
      "metadata": {
        "id": "PxB9bhnQ8FAC",
        "colab_type": "code",
        "outputId": "0b91ee54-6716-4bd6-9216-b5b827b6582a",
        "colab": {
          "base_uri": "https://localhost:8080/",
          "height": 142
        }
      },
      "source": [
        "data.head()"
      ],
      "execution_count": 33,
      "outputs": [
        {
          "output_type": "execute_result",
          "data": {
            "text/html": [
              "<div>\n",
              "<style scoped>\n",
              "    .dataframe tbody tr th:only-of-type {\n",
              "        vertical-align: middle;\n",
              "    }\n",
              "\n",
              "    .dataframe tbody tr th {\n",
              "        vertical-align: top;\n",
              "    }\n",
              "\n",
              "    .dataframe thead th {\n",
              "        text-align: right;\n",
              "    }\n",
              "</style>\n",
              "<table border=\"1\" class=\"dataframe\">\n",
              "  <thead>\n",
              "    <tr style=\"text-align: right;\">\n",
              "      <th></th>\n",
              "      <th>Subject</th>\n",
              "      <th>Description</th>\n",
              "    </tr>\n",
              "  </thead>\n",
              "  <tbody>\n",
              "    <tr>\n",
              "      <th>0</th>\n",
              "      <td>Not all calls are being forwarded to my email ...</td>\n",
              "      <td>Many calls are coming through on e-mail  but t...</td>\n",
              "    </tr>\n",
              "    <tr>\n",
              "      <th>1</th>\n",
              "      <td>password</td>\n",
              "      <td>\\rI have a new employee and need to change th...</td>\n",
              "    </tr>\n",
              "    <tr>\n",
              "      <th>2</th>\n",
              "      <td>Rate for additional lines</td>\n",
              "      <td>Can you adjust the two additional lines we hav...</td>\n",
              "    </tr>\n",
              "  </tbody>\n",
              "</table>\n",
              "</div>"
            ],
            "text/plain": [
              "                                             Subject                                        Description\n",
              "0  Not all calls are being forwarded to my email ...  Many calls are coming through on e-mail  but t...\n",
              "1                                           password   \\rI have a new employee and need to change th...\n",
              "2                          Rate for additional lines  Can you adjust the two additional lines we hav..."
            ]
          },
          "metadata": {
            "tags": []
          },
          "execution_count": 33
        }
      ]
    },
    {
      "cell_type": "code",
      "metadata": {
        "id": "dBV4rKutdgIu",
        "colab_type": "code",
        "colab": {
          "base_uri": "https://localhost:8080/",
          "height": 68
        },
        "outputId": "11eac8d3-a201-4626-e1ef-e02d20faf997"
      },
      "source": [
        "data.iloc[1]"
      ],
      "execution_count": 34,
      "outputs": [
        {
          "output_type": "execute_result",
          "data": {
            "text/plain": [
              "Subject                                                 password\n",
              "Description     \\rI have a new employee and need to change th...\n",
              "Name: 1, dtype: object"
            ]
          },
          "metadata": {
            "tags": []
          },
          "execution_count": 34
        }
      ]
    },
    {
      "cell_type": "code",
      "metadata": {
        "id": "nDlS0WXZ8HZx",
        "colab_type": "code",
        "outputId": "08bf9d76-572a-4259-cbeb-648ec7806fac",
        "colab": {
          "base_uri": "https://localhost:8080/",
          "height": 34
        }
      },
      "source": [
        "data.shape"
      ],
      "execution_count": 35,
      "outputs": [
        {
          "output_type": "execute_result",
          "data": {
            "text/plain": [
              "(3, 2)"
            ]
          },
          "metadata": {
            "tags": []
          },
          "execution_count": 35
        }
      ]
    },
    {
      "cell_type": "code",
      "metadata": {
        "id": "VniPjzin8LRY",
        "colab_type": "code",
        "colab": {
          "base_uri": "https://localhost:8080/",
          "height": 54
        },
        "outputId": "7bb9a4b3-cb03-455d-8c3a-ddf7c40ce3d7"
      },
      "source": [
        "data['Description'][0]\n"
      ],
      "execution_count": 36,
      "outputs": [
        {
          "output_type": "execute_result",
          "data": {
            "text/plain": [
              "\"Many calls are coming through on e-mail  but then suddenly there will be 3-4 calls that don't get forwarded.  Some calls show a message is left but there is no sound (I've tried rebooting my phone multiple times - doesn't help).  If I check your ap there is a red circle with an exclamation inside when I push the play button.  Today I had the sound on an email but no sound on the voicemail in your app.  It's very erratic and I'm losing calls.\""
            ]
          },
          "metadata": {
            "tags": []
          },
          "execution_count": 36
        }
      ]
    },
    {
      "cell_type": "code",
      "metadata": {
        "id": "8TnQyjgDAmWa",
        "colab_type": "code",
        "colab": {
          "base_uri": "https://localhost:8080/",
          "height": 34
        },
        "outputId": "b1d8198b-d99c-47b5-b42b-f32cbe82d0be"
      },
      "source": [
        "data['Subject'][0]"
      ],
      "execution_count": 37,
      "outputs": [
        {
          "output_type": "execute_result",
          "data": {
            "text/plain": [
              "'Not all calls are being forwarded to my email plus sound issues.'"
            ]
          },
          "metadata": {
            "tags": []
          },
          "execution_count": 37
        }
      ]
    },
    {
      "cell_type": "code",
      "metadata": {
        "id": "8GSv6n-wDy8-",
        "colab_type": "code",
        "colab": {}
      },
      "source": [
        "import re\n",
        "data['Description'] = data['Description'].map(lambda x: re.sub('[,\\.!?]', '', x))\n",
        "data['Subject'] = data['Subject'].map(lambda x: re.sub('[,\\.!?]', '', x))"
      ],
      "execution_count": 0,
      "outputs": []
    },
    {
      "cell_type": "markdown",
      "metadata": {
        "id": "qjhAHEavFD9X",
        "colab_type": "text"
      },
      "source": [
        "Checking the workcount in every sentence"
      ]
    },
    {
      "cell_type": "code",
      "metadata": {
        "id": "X53YNJr9JJlC",
        "colab_type": "code",
        "colab": {
          "base_uri": "https://localhost:8080/",
          "height": 142
        },
        "outputId": "c0ebf2d4-6a9e-49ec-c514-ad100f16a0ef"
      },
      "source": [
        "data['word_count'] = data['Description'].apply(lambda x: len(str(x).split(\" \")))\n",
        "data[['Description','word_count']].head()"
      ],
      "execution_count": 40,
      "outputs": [
        {
          "output_type": "execute_result",
          "data": {
            "text/html": [
              "<div>\n",
              "<style scoped>\n",
              "    .dataframe tbody tr th:only-of-type {\n",
              "        vertical-align: middle;\n",
              "    }\n",
              "\n",
              "    .dataframe tbody tr th {\n",
              "        vertical-align: top;\n",
              "    }\n",
              "\n",
              "    .dataframe thead th {\n",
              "        text-align: right;\n",
              "    }\n",
              "</style>\n",
              "<table border=\"1\" class=\"dataframe\">\n",
              "  <thead>\n",
              "    <tr style=\"text-align: right;\">\n",
              "      <th></th>\n",
              "      <th>Description</th>\n",
              "      <th>word_count</th>\n",
              "    </tr>\n",
              "  </thead>\n",
              "  <tbody>\n",
              "    <tr>\n",
              "      <th>0</th>\n",
              "      <td>Many calls are coming through on e-mail  but t...</td>\n",
              "      <td>90</td>\n",
              "    </tr>\n",
              "    <tr>\n",
              "      <th>1</th>\n",
              "      <td>\\rI have a new employee and need to change th...</td>\n",
              "      <td>49</td>\n",
              "    </tr>\n",
              "    <tr>\n",
              "      <th>2</th>\n",
              "      <td>Can you adjust the two additional lines we hav...</td>\n",
              "      <td>31</td>\n",
              "    </tr>\n",
              "  </tbody>\n",
              "</table>\n",
              "</div>"
            ],
            "text/plain": [
              "                                         Description  word_count\n",
              "0  Many calls are coming through on e-mail  but t...          90\n",
              "1   \\rI have a new employee and need to change th...          49\n",
              "2  Can you adjust the two additional lines we hav...          31"
            ]
          },
          "metadata": {
            "tags": []
          },
          "execution_count": 40
        }
      ]
    },
    {
      "cell_type": "code",
      "metadata": {
        "id": "_Y7xjtFizVkE",
        "colab_type": "code",
        "colab": {
          "base_uri": "https://localhost:8080/",
          "height": 142
        },
        "outputId": "6cbe2629-b32c-4fb3-db2c-f90f00ab1d56"
      },
      "source": [
        "data['word_count1'] = data['Subject'].apply(lambda x: len(str(x).split(\" \")))\n",
        "data[['Subject','word_count1']].head()"
      ],
      "execution_count": 41,
      "outputs": [
        {
          "output_type": "execute_result",
          "data": {
            "text/html": [
              "<div>\n",
              "<style scoped>\n",
              "    .dataframe tbody tr th:only-of-type {\n",
              "        vertical-align: middle;\n",
              "    }\n",
              "\n",
              "    .dataframe tbody tr th {\n",
              "        vertical-align: top;\n",
              "    }\n",
              "\n",
              "    .dataframe thead th {\n",
              "        text-align: right;\n",
              "    }\n",
              "</style>\n",
              "<table border=\"1\" class=\"dataframe\">\n",
              "  <thead>\n",
              "    <tr style=\"text-align: right;\">\n",
              "      <th></th>\n",
              "      <th>Subject</th>\n",
              "      <th>word_count1</th>\n",
              "    </tr>\n",
              "  </thead>\n",
              "  <tbody>\n",
              "    <tr>\n",
              "      <th>0</th>\n",
              "      <td>Not all calls are being forwarded to my email ...</td>\n",
              "      <td>12</td>\n",
              "    </tr>\n",
              "    <tr>\n",
              "      <th>1</th>\n",
              "      <td>password</td>\n",
              "      <td>1</td>\n",
              "    </tr>\n",
              "    <tr>\n",
              "      <th>2</th>\n",
              "      <td>Rate for additional lines</td>\n",
              "      <td>4</td>\n",
              "    </tr>\n",
              "  </tbody>\n",
              "</table>\n",
              "</div>"
            ],
            "text/plain": [
              "                                             Subject  word_count1\n",
              "0  Not all calls are being forwarded to my email ...           12\n",
              "1                                           password            1\n",
              "2                          Rate for additional lines            4"
            ]
          },
          "metadata": {
            "tags": []
          },
          "execution_count": 41
        }
      ]
    },
    {
      "cell_type": "code",
      "metadata": {
        "id": "MGaPIXCXJQG0",
        "colab_type": "code",
        "colab": {
          "base_uri": "https://localhost:8080/",
          "height": 170
        },
        "outputId": "68e90944-d5f0-4a76-f4dd-d5885e7d6894"
      },
      "source": [
        "data.word_count1.describe()"
      ],
      "execution_count": 42,
      "outputs": [
        {
          "output_type": "execute_result",
          "data": {
            "text/plain": [
              "count     3.000000\n",
              "mean      5.666667\n",
              "std       5.686241\n",
              "min       1.000000\n",
              "25%       2.500000\n",
              "50%       4.000000\n",
              "75%       8.000000\n",
              "max      12.000000\n",
              "Name: word_count1, dtype: float64"
            ]
          },
          "metadata": {
            "tags": []
          },
          "execution_count": 42
        }
      ]
    },
    {
      "cell_type": "markdown",
      "metadata": {
        "id": "TSqF_SKWFIXL",
        "colab_type": "text"
      },
      "source": [
        "Identifying the common words"
      ]
    },
    {
      "cell_type": "code",
      "metadata": {
        "id": "h84MQ6Q2JV0J",
        "colab_type": "code",
        "colab": {
          "base_uri": "https://localhost:8080/",
          "height": 323
        },
        "outputId": "94185ead-7fb7-4a4d-e63a-b62f4783c2f7"
      },
      "source": [
        "import pandas\n",
        "freq = pandas.Series(' '.join(data['Description']).split()).value_counts()[:20]\n",
        "freq = pandas.Series(' '.join(data['Subject']).split()).value_counts()[:20]\n",
        "freq"
      ],
      "execution_count": 43,
      "outputs": [
        {
          "output_type": "execute_result",
          "data": {
            "text/plain": [
              "are           1\n",
              "being         1\n",
              "plus          1\n",
              "additional    1\n",
              "Rate          1\n",
              "lines         1\n",
              "forwarded     1\n",
              "email         1\n",
              "my            1\n",
              "password      1\n",
              "all           1\n",
              "sound         1\n",
              "to            1\n",
              "calls         1\n",
              "Not           1\n",
              "issues        1\n",
              "for           1\n",
              "dtype: int64"
            ]
          },
          "metadata": {
            "tags": []
          },
          "execution_count": 43
        }
      ]
    },
    {
      "cell_type": "markdown",
      "metadata": {
        "id": "qr_bMD77FMG4",
        "colab_type": "text"
      },
      "source": [
        "Identifying the uncommon words"
      ]
    },
    {
      "cell_type": "code",
      "metadata": {
        "id": "ro_QvFMyKeSf",
        "colab_type": "code",
        "colab": {
          "base_uri": "https://localhost:8080/",
          "height": 374
        },
        "outputId": "2ba1a626-8f5e-4915-fec8-5e94d7af6f46"
      },
      "source": [
        "freq1 =  pandas.Series(' '.join(data\n",
        "         ['Description']).split()).value_counts()[-20:]\n",
        "freq1"
      ],
      "execution_count": 44,
      "outputs": [
        {
          "output_type": "execute_result",
          "data": {
            "text/plain": [
              "push         1\n",
              "new          1\n",
              "than         1\n",
              "help)        1\n",
              "circle       1\n",
              "If           1\n",
              "123          1\n",
              "rebooting    1\n",
              "for          1\n",
              "am           1\n",
              "(I've        1\n",
              "we           1\n",
              "erratic      1\n",
              "I'm          1\n",
              "reach        1\n",
              "work         1\n",
              "Please       1\n",
              "It's         1\n",
              "Can          1\n",
              "app          1\n",
              "dtype: int64"
            ]
          },
          "metadata": {
            "tags": []
          },
          "execution_count": 44
        }
      ]
    },
    {
      "cell_type": "code",
      "metadata": {
        "id": "djY0mqoNz2fm",
        "colab_type": "code",
        "colab": {
          "base_uri": "https://localhost:8080/",
          "height": 323
        },
        "outputId": "71056453-28c4-4f06-94fb-3146e3845d00"
      },
      "source": [
        "freq1 =  pandas.Series(' '.join(data\n",
        "         ['Subject']).split()).value_counts()[-20:]\n",
        "\n",
        "freq1"
      ],
      "execution_count": 45,
      "outputs": [
        {
          "output_type": "execute_result",
          "data": {
            "text/plain": [
              "are           1\n",
              "being         1\n",
              "plus          1\n",
              "additional    1\n",
              "Rate          1\n",
              "lines         1\n",
              "forwarded     1\n",
              "email         1\n",
              "my            1\n",
              "password      1\n",
              "all           1\n",
              "sound         1\n",
              "to            1\n",
              "calls         1\n",
              "Not           1\n",
              "issues        1\n",
              "for           1\n",
              "dtype: int64"
            ]
          },
          "metadata": {
            "tags": []
          },
          "execution_count": 45
        }
      ]
    },
    {
      "cell_type": "markdown",
      "metadata": {
        "id": "twvsOHm5Eaoz",
        "colab_type": "text"
      },
      "source": [
        "Text Preprocessing"
      ]
    },
    {
      "cell_type": "code",
      "metadata": {
        "id": "T62Xi0QgKnEs",
        "colab_type": "code",
        "colab": {
          "base_uri": "https://localhost:8080/",
          "height": 51
        },
        "outputId": "ba32b7ab-3bef-4b74-f9bb-2fbb08003ff2"
      },
      "source": [
        "lem = WordNetLemmatizer()\n",
        "stem = PorterStemmer()\n",
        "word = \"inversely\"\n",
        "print(\"stemming:\",stem.stem(word))\n",
        "print(\"lemmatization:\", lem.lemmatize(word, \"v\"))"
      ],
      "execution_count": 46,
      "outputs": [
        {
          "output_type": "stream",
          "text": [
            "stemming: invers\n",
            "lemmatization: inversely\n"
          ],
          "name": "stdout"
        }
      ]
    },
    {
      "cell_type": "code",
      "metadata": {
        "id": "ILBPeuVSREW3",
        "colab_type": "code",
        "colab": {}
      },
      "source": [
        "#Creating a list of stop words and adding custom stopwords\n",
        "stop_words = set(stopwords.words(\"english\"))\n",
        "#Creating a list of custom stopwords\n",
        "new_words = [\"using\", \"show\", \"result\", \"large\", \"also\", \"iv\", \"one\", \"two\", \"new\", \"previously\", \"shown\"]\n",
        "stop_words = stop_words.union(new_words)"
      ],
      "execution_count": 0,
      "outputs": []
    },
    {
      "cell_type": "code",
      "metadata": {
        "id": "3Gl0tf7yUCGT",
        "colab_type": "code",
        "colab": {
          "base_uri": "https://localhost:8080/",
          "height": 54
        },
        "outputId": "489300d3-bf38-4c92-c5a6-dabf40c8733f"
      },
      "source": [
        "data['Description'][0]"
      ],
      "execution_count": 48,
      "outputs": [
        {
          "output_type": "execute_result",
          "data": {
            "text/plain": [
              "\"Many calls are coming through on e-mail  but then suddenly there will be 3-4 calls that don't get forwarded  Some calls show a message is left but there is no sound (I've tried rebooting my phone multiple times - doesn't help)  If I check your ap there is a red circle with an exclamation inside when I push the play button  Today I had the sound on an email but no sound on the voicemail in your app  It's very erratic and I'm losing calls\""
            ]
          },
          "metadata": {
            "tags": []
          },
          "execution_count": 48
        }
      ]
    },
    {
      "cell_type": "markdown",
      "metadata": {
        "id": "xcTMvRYPFZDL",
        "colab_type": "text"
      },
      "source": [
        "Removing punctuations,tags, special characters and digits, Converting text to lower and convert to list from string"
      ]
    },
    {
      "cell_type": "code",
      "metadata": {
        "id": "T_lujuKHRMfD",
        "colab_type": "code",
        "colab": {}
      },
      "source": [
        "corpus = []\n",
        "for i in range(3):\n",
        "    #Remove punctuations\n",
        "    text = re.sub('[^a-zA-Z]', ' ', data['Description'][i])\n",
        "    text1 = re.sub('[^a-zA-Z]', ' ', data['Subject'][i])\n",
        "    #Convert to lowercase\n",
        "    text = text.lower()\n",
        "    text1 = text1.lower()\n",
        "    \n",
        "    #remove tags\n",
        "    text=re.sub(\"&lt;/?.*?&gt;\",\" &lt;&gt; \",text)\n",
        "    text1=re.sub(\"&lt;/?.*?&gt;\",\" &lt;&gt; \",text1)\n",
        "    \n",
        "    # remove special characters and digits\n",
        "    text=re.sub(\"(\\\\d|\\\\W)+\",\" \",text)\n",
        "    text1=re.sub(\"(\\\\d|\\\\W)+\",\" \",text1)\n",
        "    \n",
        "    ##Convert to list from string\n",
        "    text = text.split()\n",
        "    text1 = text1.split()\n",
        "    \n",
        "    ##Stemming\n",
        "    ps=PorterStemmer()\n",
        "    #Lemmatisation\n",
        "    lem = WordNetLemmatizer()\n",
        "    text = [lem.lemmatize(word) for word in text if not word in  \n",
        "            stop_words] \n",
        "    text = \" \".join(text)\n",
        "    text1 = [lem.lemmatize(word) for word in text1 if not word in  \n",
        "            stop_words] \n",
        "    text1 = \" \".join(text1)\n",
        "    corpus.append(text)\n",
        "    corpus.append(text1)"
      ],
      "execution_count": 0,
      "outputs": []
    },
    {
      "cell_type": "markdown",
      "metadata": {
        "id": "VeyctVLnFrQz",
        "colab_type": "text"
      },
      "source": [
        "View corpus item"
      ]
    },
    {
      "cell_type": "code",
      "metadata": {
        "id": "br-cewcKRt09",
        "colab_type": "code",
        "colab": {
          "base_uri": "https://localhost:8080/",
          "height": 34
        },
        "outputId": "e14eec50-c708-43e8-df9f-cdf39682a6e3"
      },
      "source": [
        "corpus[4]"
      ],
      "execution_count": 50,
      "outputs": [
        {
          "output_type": "execute_result",
          "data": {
            "text/plain": [
              "'adjust additional line account billed discounted rate line please reach xxxxxxxxxx'"
            ]
          },
          "metadata": {
            "tags": []
          },
          "execution_count": 50
        }
      ]
    },
    {
      "cell_type": "markdown",
      "metadata": {
        "id": "gmfYv_MyFuAj",
        "colab_type": "text"
      },
      "source": [
        "Plotting word cloud"
      ]
    },
    {
      "cell_type": "code",
      "metadata": {
        "id": "-jUzS-XSSTYr",
        "colab_type": "code",
        "colab": {
          "base_uri": "https://localhost:8080/",
          "height": 215
        },
        "outputId": "2899560f-50d7-4c5e-b2cb-307b258bafde"
      },
      "source": [
        "#Word cloud\n",
        "from os import path\n",
        "from PIL import Image\n",
        "from wordcloud import WordCloud, STOPWORDS, ImageColorGenerator\n",
        "import matplotlib.pyplot as plt\n",
        "% matplotlib inline\n",
        "wordcloud = WordCloud(\n",
        "                          background_color='white',\n",
        "                          stopwords=stop_words,\n",
        "                          max_words=100,\n",
        "                          max_font_size=50, \n",
        "                          random_state=42\n",
        "                         ).generate(str(corpus))\n",
        "print(wordcloud)\n",
        "fig = plt.figure(1)\n",
        "plt.imshow(wordcloud)\n",
        "plt.axis('off')\n",
        "plt.show()\n",
        "fig.savefig(\"word1.png\", dpi=900)"
      ],
      "execution_count": 51,
      "outputs": [
        {
          "output_type": "stream",
          "text": [
            "<wordcloud.wordcloud.WordCloud object at 0x7efd8a835b38>\n"
          ],
          "name": "stdout"
        },
        {
          "output_type": "display_data",
          "data": {
            "image/png": "[encoded data removed]",
            "text/plain": [
              "<Figure size 432x288 with 1 Axes>"
            ]
          },
          "metadata": {
            "tags": [],
            "needs_background": "light"
          }
        }
      ]
    },
    {
      "cell_type": "markdown",
      "metadata": {
        "id": "axnHa_nOWSx1",
        "colab_type": "text"
      },
      "source": [
        "Here I have used CountVectorizer. feature_extraction.text module creates a document-term matrix. and specified to include only those words that appear less than 80% and at least in 2 document. I have cleaned the text by removing stop words as stop words do not contribute to topic modeling.\n",
        "\n",
        "\n",
        "\n",
        "\n",
        "\n",
        "\n",
        "\n",
        "\n",
        "\n",
        "Later created a vector of word counts and did the conversion of CountVectoriser to tokenise the text and build a vocabulary of known words.\n",
        "created a variable “cv” of the CountVectoriser class, and then evoke the fit_transform function to learn and build the vocabulary."
      ]
    },
    {
      "cell_type": "code",
      "metadata": {
        "id": "hRZwrL8dSYD_",
        "colab_type": "code",
        "colab": {}
      },
      "source": [
        "cv=CountVectorizer(max_df=0.8,stop_words=stop_words, max_features=10000, ngram_range=(1,3))\n",
        "X=cv.fit_transform(corpus)"
      ],
      "execution_count": 0,
      "outputs": []
    },
    {
      "cell_type": "markdown",
      "metadata": {
        "id": "uXQrIm9bXUiZ",
        "colab_type": "text"
      },
      "source": [
        "parameters passed into the function:\n",
        "cv=CountVectorizer(max_df=0.8,stop_words=stop_words, max_features=10000, ngram_range=(1,3))\n",
        "max_df — When building the vocabulary ignore terms that have a document frequency strictly higher than the given threshold (corpus-specific stop words).This is to ensure that we only have words relevant to the context and not commonly used words.\n",
        "max_features — determines the number of columns in the matrix.\n",
        "n-gram range — we would want to look at a list of single words, two words (bi-grams) and three words (tri-gram) combinations."
      ]
    },
    {
      "cell_type": "code",
      "metadata": {
        "id": "-93njw-i8H-b",
        "colab_type": "code",
        "colab": {
          "base_uri": "https://localhost:8080/",
          "height": 51
        },
        "outputId": "97bececd-2e3b-43a9-ab4d-fdd62d0e1bfb"
      },
      "source": [
        "X"
      ],
      "execution_count": 54,
      "outputs": [
        {
          "output_type": "execute_result",
          "data": {
            "text/plain": [
              "<6x187 sparse matrix of type '<class 'numpy.int64'>'\n",
              "\twith 197 stored elements in Compressed Sparse Row format>"
            ]
          },
          "metadata": {
            "tags": []
          },
          "execution_count": 54
        }
      ]
    },
    {
      "cell_type": "code",
      "metadata": {
        "id": "Jj4r9C2sSZuc",
        "colab_type": "code",
        "colab": {
          "base_uri": "https://localhost:8080/",
          "height": 357
        },
        "outputId": "1b535bb0-ac96-4836-de93-8ef4006c2801"
      },
      "source": [
        "list(cv.vocabulary_.keys())[:20]"
      ],
      "execution_count": 55,
      "outputs": [
        {
          "output_type": "execute_result",
          "data": {
            "text/plain": [
              "['many',\n",
              " 'call',\n",
              " 'coming',\n",
              " 'mail',\n",
              " 'suddenly',\n",
              " 'get',\n",
              " 'forwarded',\n",
              " 'message',\n",
              " 'left',\n",
              " 'sound',\n",
              " 'tried',\n",
              " 'rebooting',\n",
              " 'phone',\n",
              " 'multiple',\n",
              " 'time',\n",
              " 'help',\n",
              " 'check',\n",
              " 'ap',\n",
              " 'red',\n",
              " 'circle']"
            ]
          },
          "metadata": {
            "tags": []
          },
          "execution_count": 55
        }
      ]
    },
    {
      "cell_type": "markdown",
      "metadata": {
        "id": "byfJaMwrXc2c",
        "colab_type": "text"
      },
      "source": [
        "Visualize top N uni-grams, bi-grams & tri-grams\n",
        "We can use the CountVectoriser to visualise the top 20 unigrams, bi-grams and tri-grams."
      ]
    },
    {
      "cell_type": "code",
      "metadata": {
        "id": "cE8IfmdWSdK9",
        "colab_type": "code",
        "colab": {
          "base_uri": "https://localhost:8080/",
          "height": 903
        },
        "outputId": "6c9c7289-ecc3-41c9-f23c-e3108c96b42b"
      },
      "source": [
        "#Most frequently occuring words\n",
        "def get_top_n_words(corpus, n=None):\n",
        "    vec = CountVectorizer().fit(corpus)\n",
        "    bag_of_words = vec.transform(corpus)\n",
        "    sum_words = bag_of_words.sum(axis=0) \n",
        "    words_freq = [(word, sum_words[0, idx]) for word, idx in      \n",
        "                   vec.vocabulary_.items()]\n",
        "    words_freq =sorted(words_freq, key = lambda x: x[1], \n",
        "                       reverse=True)\n",
        "    return words_freq[:n]\n",
        "#Convert most freq words to dataframe for plotting bar plot\n",
        "top_words = get_top_n_words(corpus, n=20)\n",
        "top_df = pandas.DataFrame(top_words)\n",
        "top_df.columns=[\"Word\", \"Freq\"]\n",
        "#Barplot of most freq words\n",
        "import seaborn as sns\n",
        "sns.set(rc={'figure.figsize':(13,8)})\n",
        "g = sns.barplot(x=\"Word\", y=\"Freq\", data=top_df)\n",
        "g.set_xticklabels(g.get_xticklabels(), rotation=30)"
      ],
      "execution_count": 56,
      "outputs": [
        {
          "output_type": "stream",
          "text": [
            "/usr/local/lib/python3.6/dist-packages/statsmodels/tools/_testing.py:19: FutureWarning: pandas.util.testing is deprecated. Use the functions in the public API at pandas.testing instead.\n",
            "  import pandas.util.testing as tm\n"
          ],
          "name": "stderr"
        },
        {
          "output_type": "execute_result",
          "data": {
            "text/plain": [
              "[Text(0, 0, 'call'),\n",
              " Text(0, 0, 'sound'),\n",
              " Text(0, 0, 'password'),\n",
              " Text(0, 0, 'line'),\n",
              " Text(0, 0, 'forwarded'),\n",
              " Text(0, 0, 'message'),\n",
              " Text(0, 0, 'email'),\n",
              " Text(0, 0, 'need'),\n",
              " Text(0, 0, 'additional'),\n",
              " Text(0, 0, 'rate'),\n",
              " Text(0, 0, 'many'),\n",
              " Text(0, 0, 'coming'),\n",
              " Text(0, 0, 'mail'),\n",
              " Text(0, 0, 'suddenly'),\n",
              " Text(0, 0, 'get'),\n",
              " Text(0, 0, 'left'),\n",
              " Text(0, 0, 'tried'),\n",
              " Text(0, 0, 'rebooting'),\n",
              " Text(0, 0, 'phone'),\n",
              " Text(0, 0, 'multiple')]"
            ]
          },
          "metadata": {
            "tags": []
          },
          "execution_count": 56
        },
        {
          "output_type": "display_data",
          "data": {
            "image/png": "[encoded data removed]",
            "text/plain": [
              "<Figure size 936x576 with 1 Axes>"
            ]
          },
          "metadata": {
            "tags": []
          }
        }
      ]
    },
    {
      "cell_type": "code",
      "metadata": {
        "id": "hepmybsxSnzY",
        "colab_type": "code",
        "colab": {
          "base_uri": "https://localhost:8080/",
          "height": 1000
        },
        "outputId": "e2684b5d-d568-4233-9695-58e910b72903"
      },
      "source": [
        "#Most frequently occuring Bi-grams\n",
        "def get_top_n2_words(corpus, n=None):\n",
        "    vec1 = CountVectorizer(ngram_range=(2,2),  \n",
        "            max_features=2000).fit(corpus)\n",
        "    bag_of_words = vec1.transform(corpus)\n",
        "    sum_words = bag_of_words.sum(axis=0) \n",
        "    words_freq = [(word, sum_words[0, idx]) for word, idx in     \n",
        "                  vec1.vocabulary_.items()]\n",
        "    words_freq =sorted(words_freq, key = lambda x: x[1], \n",
        "                reverse=True)\n",
        "    return words_freq[:n]\n",
        "top2_words = get_top_n2_words(corpus, n=20)\n",
        "top2_df = pandas.DataFrame(top2_words)\n",
        "top2_df.columns=[\"Bi-gram\", \"Freq\"]\n",
        "print(top2_df)\n",
        "#Barplot of most freq Bi-grams\n",
        "import seaborn as sns\n",
        "sns.set(rc={'figure.figsize':(13,8)})\n",
        "h=sns.barplot(x=\"Bi-gram\", y=\"Freq\", data=top2_df)\n",
        "h.set_xticklabels(h.get_xticklabels(), rotation=45)"
      ],
      "execution_count": 57,
      "outputs": [
        {
          "output_type": "stream",
          "text": [
            "            Bi-gram  Freq\n",
            "0   additional line     2\n",
            "1         many call     1\n",
            "2       call coming     1\n",
            "3       coming mail     1\n",
            "4     mail suddenly     1\n",
            "5     suddenly call     1\n",
            "6          call get     1\n",
            "7     get forwarded     1\n",
            "8    forwarded call     1\n",
            "9      call message     1\n",
            "10     message left     1\n",
            "11       left sound     1\n",
            "12      sound tried     1\n",
            "13  tried rebooting     1\n",
            "14  rebooting phone     1\n",
            "15   phone multiple     1\n",
            "16    multiple time     1\n",
            "17        time help     1\n",
            "18       help check     1\n",
            "19         check ap     1\n"
          ],
          "name": "stdout"
        },
        {
          "output_type": "execute_result",
          "data": {
            "text/plain": [
              "[Text(0, 0, 'additional line'),\n",
              " Text(0, 0, 'many call'),\n",
              " Text(0, 0, 'call coming'),\n",
              " Text(0, 0, 'coming mail'),\n",
              " Text(0, 0, 'mail suddenly'),\n",
              " Text(0, 0, 'suddenly call'),\n",
              " Text(0, 0, 'call get'),\n",
              " Text(0, 0, 'get forwarded'),\n",
              " Text(0, 0, 'forwarded call'),\n",
              " Text(0, 0, 'call message'),\n",
              " Text(0, 0, 'message left'),\n",
              " Text(0, 0, 'left sound'),\n",
              " Text(0, 0, 'sound tried'),\n",
              " Text(0, 0, 'tried rebooting'),\n",
              " Text(0, 0, 'rebooting phone'),\n",
              " Text(0, 0, 'phone multiple'),\n",
              " Text(0, 0, 'multiple time'),\n",
              " Text(0, 0, 'time help'),\n",
              " Text(0, 0, 'help check'),\n",
              " Text(0, 0, 'check ap')]"
            ]
          },
          "metadata": {
            "tags": []
          },
          "execution_count": 57
        },
        {
          "output_type": "display_data",
          "data": {
            "image/png": "[encoded data removed]",
            "text/plain": [
              "<Figure size 936x576 with 1 Axes>"
            ]
          },
          "metadata": {
            "tags": []
          }
        }
      ]
    },
    {
      "cell_type": "code",
      "metadata": {
        "id": "6qnheQg4Ss_9",
        "colab_type": "code",
        "colab": {
          "base_uri": "https://localhost:8080/",
          "height": 1000
        },
        "outputId": "3cb260c7-f042-4077-da8d-2f059e4e8711"
      },
      "source": [
        "#Most frequently occuring Tri-grams\n",
        "def get_top_n3_words(corpus, n=None):\n",
        "    vec1 = CountVectorizer(ngram_range=(3,3), \n",
        "           max_features=2000).fit(corpus)\n",
        "    bag_of_words = vec1.transform(corpus)\n",
        "    sum_words = bag_of_words.sum(axis=0) \n",
        "    words_freq = [(word, sum_words[0, idx]) for word, idx in     \n",
        "                  vec1.vocabulary_.items()]\n",
        "    words_freq =sorted(words_freq, key = lambda x: x[1], \n",
        "                reverse=True)\n",
        "    return words_freq[:n]\n",
        "top3_words = get_top_n3_words(corpus, n=20)\n",
        "top3_df = pandas.DataFrame(top3_words)\n",
        "top3_df.columns=[\"Tri-gram\", \"Freq\"]\n",
        "print(top3_df)\n",
        "#Barplot of most freq Tri-grams\n",
        "import seaborn as sns\n",
        "sns.set(rc={'figure.figsize':(13,8)})\n",
        "j=sns.barplot(x=\"Tri-gram\", y=\"Freq\", data=top3_df)\n",
        "j.set_xticklabels(j.get_xticklabels(), rotation=45)"
      ],
      "execution_count": 58,
      "outputs": [
        {
          "output_type": "stream",
          "text": [
            "                    Tri-gram  Freq\n",
            "0           many call coming     1\n",
            "1           call coming mail     1\n",
            "2       coming mail suddenly     1\n",
            "3         mail suddenly call     1\n",
            "4          suddenly call get     1\n",
            "5         call get forwarded     1\n",
            "6         get forwarded call     1\n",
            "7     forwarded call message     1\n",
            "8          call message left     1\n",
            "9         message left sound     1\n",
            "10          left sound tried     1\n",
            "11     sound tried rebooting     1\n",
            "12     tried rebooting phone     1\n",
            "13  rebooting phone multiple     1\n",
            "14       phone multiple time     1\n",
            "15        multiple time help     1\n",
            "16           time help check     1\n",
            "17             help check ap     1\n",
            "18              check ap red     1\n",
            "19             ap red circle     1\n"
          ],
          "name": "stdout"
        },
        {
          "output_type": "execute_result",
          "data": {
            "text/plain": [
              "[Text(0, 0, 'many call coming'),\n",
              " Text(0, 0, 'call coming mail'),\n",
              " Text(0, 0, 'coming mail suddenly'),\n",
              " Text(0, 0, 'mail suddenly call'),\n",
              " Text(0, 0, 'suddenly call get'),\n",
              " Text(0, 0, 'call get forwarded'),\n",
              " Text(0, 0, 'get forwarded call'),\n",
              " Text(0, 0, 'forwarded call message'),\n",
              " Text(0, 0, 'call message left'),\n",
              " Text(0, 0, 'message left sound'),\n",
              " Text(0, 0, 'left sound tried'),\n",
              " Text(0, 0, 'sound tried rebooting'),\n",
              " Text(0, 0, 'tried rebooting phone'),\n",
              " Text(0, 0, 'rebooting phone multiple'),\n",
              " Text(0, 0, 'phone multiple time'),\n",
              " Text(0, 0, 'multiple time help'),\n",
              " Text(0, 0, 'time help check'),\n",
              " Text(0, 0, 'help check ap'),\n",
              " Text(0, 0, 'check ap red'),\n",
              " Text(0, 0, 'ap red circle')]"
            ]
          },
          "metadata": {
            "tags": []
          },
          "execution_count": 58
        },
        {
          "output_type": "display_data",
          "data": {
            "image/png": "[encoded data removed]",
            "text/plain": [
              "<Figure size 936x576 with 1 Axes>"
            ]
          },
          "metadata": {
            "tags": []
          }
        }
      ]
    },
    {
      "cell_type": "markdown",
      "metadata": {
        "id": "8fOtk8WcXnpA",
        "colab_type": "text"
      },
      "source": [
        "Then Converting to a matrix of integers\n",
        "The next step of refining the word counts is using the TF-IDF vectoriser. The deficiency of a mere word count obtained from the countVectoriser is that, large counts of certain common words may dilute the impact of more context specific words in the corpus. \n",
        "\n",
        "This is overcome by the TF-IDF vectoriser which penalizes words that appear several times across the document. TF-IDF are word frequency scores that highlight words that are more important to the context rather than those that appear frequently across documents.\n",
        "TF-IDF consists of 2 components:\n",
        "TF — term frequency\n",
        "IDF — Inverse document frequency"
      ]
    },
    {
      "cell_type": "code",
      "metadata": {
        "id": "9karzn8TSxjf",
        "colab_type": "code",
        "colab": {}
      },
      "source": [
        "from sklearn.feature_extraction.text import TfidfTransformer\n",
        " \n",
        "tfidf_transformer=TfidfTransformer(smooth_idf=True,use_idf=True)\n",
        "tfidf_transformer.fit(X)\n",
        "# get feature names\n",
        "feature_names=cv.get_feature_names()\n",
        " \n",
        "# fetch document for which keywords needs to be extracted\n",
        "doc=corpus[5]\n",
        " \n",
        "#generate tf-idf for the given document\n",
        "tf_idf_vector=tfidf_transformer.transform(cv.transform([doc]))"
      ],
      "execution_count": 0,
      "outputs": []
    },
    {
      "cell_type": "code",
      "metadata": {
        "id": "kZpdI2FjS1SM",
        "colab_type": "code",
        "colab": {
          "base_uri": "https://localhost:8080/",
          "height": 187
        },
        "outputId": "cb31380c-9f68-4e54-d4fa-03282a3ef493"
      },
      "source": [
        "#Function for sorting tf_idf in descending order\n",
        "from scipy.sparse import coo_matrix\n",
        "def sort_coo(coo_matrix):\n",
        "    tuples = zip(coo_matrix.col, coo_matrix.data)\n",
        "    return sorted(tuples, key=lambda x: (x[1], x[0]), reverse=True)\n",
        " \n",
        "def extract_topn_from_vector(feature_names, sorted_items, topn=10):\n",
        "    \"\"\"get the feature names and tf-idf score of top n items\"\"\"\n",
        "    \n",
        "    #use only topn items from vector\n",
        "    sorted_items = sorted_items[:topn]\n",
        " \n",
        "    score_vals = []\n",
        "    feature_vals = []\n",
        "    \n",
        "    # word index and corresponding tf-idf score\n",
        "    for idx, score in sorted_items:\n",
        "        \n",
        "        #keep track of feature name and its corresponding score\n",
        "        score_vals.append(round(score, 3))\n",
        "        feature_vals.append(feature_names[idx])\n",
        " \n",
        "    #create a tuples of feature,score\n",
        "    #results = zip(feature_vals,score_vals)\n",
        "    results= {}\n",
        "    for idx in range(len(feature_vals)):\n",
        "        results[feature_vals[idx]]=score_vals[idx]\n",
        "    \n",
        "    return results\n",
        "#sort the tf-idf vectors by descending order of scores\n",
        "sorted_items=sort_coo(tf_idf_vector.tocoo())\n",
        "#extract only the top n; n here is 10\n",
        "keywords=extract_topn_from_vector(feature_names,sorted_items,5)\n",
        " \n",
        "# now print the results\n",
        "print(\"\\nDescription:\")\n",
        "print(doc)\n",
        "print(\"\\nKeywords:\")\n",
        "for k in keywords:\n",
        "    print(k,keywords[k])"
      ],
      "execution_count": 60,
      "outputs": [
        {
          "output_type": "stream",
          "text": [
            "\n",
            "Description:\n",
            "rate additional line\n",
            "\n",
            "Keywords:\n",
            "rate additional line 0.462\n",
            "rate additional 0.462\n",
            "rate 0.379\n",
            "line 0.379\n",
            "additional line 0.379\n"
          ],
          "name": "stdout"
        }
      ]
    },
    {
      "cell_type": "markdown",
      "metadata": {
        "id": "ybXFTD_F8NSB",
        "colab_type": "text"
      },
      "source": [
        "Topic Modeliing - Classification of subject and description, into things like product defects, poor services, call quality issues, price issue, etc"
      ]
    },
    {
      "cell_type": "code",
      "metadata": {
        "id": "b3eKxvehG4gW",
        "colab_type": "code",
        "colab": {
          "base_uri": "https://localhost:8080/",
          "height": 136
        },
        "outputId": "de970ecc-6256-4df8-a3ed-846ea2fd23e2"
      },
      "source": [
        "from sklearn.decomposition import LatentDirichletAllocation\n",
        "\n",
        "LDA = LatentDirichletAllocation(n_components=5, random_state=42)\n",
        "LDA.fit(X)"
      ],
      "execution_count": 61,
      "outputs": [
        {
          "output_type": "execute_result",
          "data": {
            "text/plain": [
              "LatentDirichletAllocation(batch_size=128, doc_topic_prior=None,\n",
              "                          evaluate_every=-1, learning_decay=0.7,\n",
              "                          learning_method='batch', learning_offset=10.0,\n",
              "                          max_doc_update_iter=100, max_iter=10,\n",
              "                          mean_change_tol=0.001, n_components=5, n_jobs=None,\n",
              "                          perp_tol=0.1, random_state=42, topic_word_prior=None,\n",
              "                          total_samples=1000000.0, verbose=0)"
            ]
          },
          "metadata": {
            "tags": []
          },
          "execution_count": 61
        }
      ]
    },
    {
      "cell_type": "code",
      "metadata": {
        "id": "akSJs2F89eHq",
        "colab_type": "code",
        "colab": {
          "base_uri": "https://localhost:8080/",
          "height": 204
        },
        "outputId": "8aefe120-b134-4490-ec49-ec8cf047b14f"
      },
      "source": [
        "cv"
      ],
      "execution_count": 62,
      "outputs": [
        {
          "output_type": "execute_result",
          "data": {
            "text/plain": [
              "CountVectorizer(analyzer='word', binary=False, decode_error='strict',\n",
              "                dtype=<class 'numpy.int64'>, encoding='utf-8', input='content',\n",
              "                lowercase=True, max_df=0.8, max_features=10000, min_df=1,\n",
              "                ngram_range=(1, 3), preprocessor=None,\n",
              "                stop_words={'a', 'about', 'above', 'after', 'again', 'against',\n",
              "                            'ain', 'all', 'also', 'am', 'an', 'and', 'any',\n",
              "                            'are', 'aren', \"aren't\", 'as', 'at', 'be',\n",
              "                            'because', 'been', 'before', 'being', 'below',\n",
              "                            'between', 'both', 'but', 'by', 'can', 'couldn', ...},\n",
              "                strip_accents=None, token_pattern='(?u)\\\\b\\\\w\\\\w+\\\\b',\n",
              "                tokenizer=None, vocabulary=None)"
            ]
          },
          "metadata": {
            "tags": []
          },
          "execution_count": 62
        }
      ]
    },
    {
      "cell_type": "code",
      "metadata": {
        "id": "WmUyi59p8P5i",
        "colab_type": "code",
        "colab": {
          "base_uri": "https://localhost:8080/",
          "height": 1000
        },
        "outputId": "da0ec1aa-18b7-4e9c-f3b4-c3fa364af056"
      },
      "source": [
        "import random\n",
        "\n",
        "for i in range(96):\n",
        "    random_id = random.randint(0,len(cv.get_feature_names()))\n",
        "    print(cv.get_feature_names()[random_id])"
      ],
      "execution_count": 81,
      "outputs": [
        {
          "output_type": "stream",
          "text": [
            "left\n",
            "many call coming\n",
            "button today\n",
            "erratic losing call\n",
            "telling need\n",
            "plus\n",
            "mail\n",
            "tried rebooting phone\n",
            "call message\n",
            "default work think\n",
            "message left\n",
            "play\n",
            "check ap red\n",
            "need change name\n",
            "voicemail app erratic\n",
            "left sound tried\n",
            "telling need password\n",
            "suddenly call get\n",
            "left sound tried\n",
            "call\n",
            "message left sound\n",
            "password default work\n",
            "circle\n",
            "suddenly call get\n",
            "rebooting\n",
            "button\n",
            "help check ap\n",
            "forwarded email plus\n",
            "tried rebooting\n",
            "play button today\n",
            "change name\n",
            "time help check\n",
            "coming mail\n",
            "need password default\n",
            "push\n",
            "rebooting\n",
            "message left\n",
            "message left\n",
            "voicemail\n",
            "need change\n",
            "email plus\n",
            "account billed\n",
            "billed discounted\n",
            "button today\n",
            "app erratic losing\n",
            "losing call\n",
            "call message left\n",
            "everything reading\n",
            "line please reach\n",
            "erratic losing call\n",
            "inside push play\n",
            "voicemail\n",
            "everything\n",
            "think ever\n",
            "push play\n",
            "telling need\n",
            "time help\n",
            "line please\n",
            "multiple time\n",
            "email sound\n",
            "button today\n",
            "inside push play\n",
            "forwarded call\n",
            "need\n",
            "app erratic losing\n",
            "losing\n",
            "telling need password\n",
            "call message\n",
            "button today\n",
            "reading\n",
            "default work think\n",
            "rate line please\n",
            "button today sound\n",
            "name\n",
            "help\n",
            "get forwarded call\n",
            "push\n",
            "ap red\n",
            "app erratic losing\n",
            "billed discounted rate\n",
            "display everything\n",
            "rate\n",
            "change name\n",
            "phone multiple\n",
            "work think\n",
            "exclamation inside\n",
            "call forwarded\n",
            "set password message\n",
            "password\n",
            "everything reading\n",
            "check ap red\n",
            "billed\n",
            "ap\n",
            "account billed discounted\n",
            "sound issue\n",
            "need password default\n"
          ],
          "name": "stdout"
        }
      ]
    },
    {
      "cell_type": "code",
      "metadata": {
        "id": "WdvX6Bns8g2W",
        "colab_type": "code",
        "colab": {}
      },
      "source": [
        "first_topic = LDA.components_[0]"
      ],
      "execution_count": 0,
      "outputs": []
    },
    {
      "cell_type": "code",
      "metadata": {
        "id": "KpECY4B68loo",
        "colab_type": "code",
        "colab": {}
      },
      "source": [
        "top_topic_words = first_topic.argsort()[-10:]"
      ],
      "execution_count": 0,
      "outputs": []
    },
    {
      "cell_type": "code",
      "metadata": {
        "id": "swbIZFQO8o1P",
        "colab_type": "code",
        "colab": {
          "base_uri": "https://localhost:8080/",
          "height": 34
        },
        "outputId": "fc0df200-3cb6-401e-d027-9f4433750904"
      },
      "source": [
        "top_topic_words"
      ],
      "execution_count": 84,
      "outputs": [
        {
          "output_type": "execute_result",
          "data": {
            "text/plain": [
              "array([157,  25,  52,  53,  74,  75,  85, 129,  51,  71])"
            ]
          },
          "metadata": {
            "tags": []
          },
          "execution_count": 84
        }
      ]
    },
    {
      "cell_type": "code",
      "metadata": {
        "id": "plvnIIcN8s0W",
        "colab_type": "code",
        "colab": {
          "base_uri": "https://localhost:8080/",
          "height": 187
        },
        "outputId": "bfb15b1e-34df-4e5b-82fa-1ca7e938fd6e"
      },
      "source": [
        "for i in top_topic_words:\n",
        "    print(cv.get_feature_names()[i])"
      ],
      "execution_count": 85,
      "outputs": [
        {
          "output_type": "stream",
          "text": [
            "sound issue\n",
            "call forwarded email\n",
            "email plus\n",
            "email plus sound\n",
            "forwarded email\n",
            "forwarded email plus\n",
            "issue\n",
            "plus\n",
            "email\n",
            "forwarded\n"
          ],
          "name": "stdout"
        }
      ]
    },
    {
      "cell_type": "code",
      "metadata": {
        "id": "N25Kgr7g8xT4",
        "colab_type": "code",
        "colab": {
          "base_uri": "https://localhost:8080/",
          "height": 357
        },
        "outputId": "02fe06d9-04af-46ed-b307-e7b6aea48fd6"
      },
      "source": [
        "for i,topic in enumerate(LDA.components_):\n",
        "    print(f'Top 10 words for topic #{i}:')\n",
        "    print([cv.get_feature_names()[i] for i in topic.argsort()[-10:]])\n",
        "    print('\\n')"
      ],
      "execution_count": 86,
      "outputs": [
        {
          "output_type": "stream",
          "text": [
            "Top 10 words for topic #0:\n",
            "['sound issue', 'call forwarded email', 'email plus', 'email plus sound', 'forwarded email', 'forwarded email plus', 'issue', 'plus', 'email', 'forwarded']\n",
            "\n",
            "\n",
            "Top 10 words for topic #1:\n",
            "['sound', 'forwarded', 'email', 'line', 'additional line', 'additional', 'rate', 'rate additional', 'rate additional line', 'password']\n",
            "\n",
            "\n",
            "Top 10 words for topic #2:\n",
            "['sound', 'forwarded', 'email', 'line', 'additional line', 'additional', 'rate', 'rate additional', 'rate additional line', 'password']\n",
            "\n",
            "\n",
            "Top 10 words for topic #3:\n",
            "['multiple time', 'multiple', 'message left sound', 'call get', 'message left', 'circle exclamation', 'erratic losing call', 'message', 'sound', 'call']\n",
            "\n",
            "\n",
            "Top 10 words for topic #4:\n",
            "['ever set password', 'reading telling need', 'reading telling', 'ever', 'additional line', 'additional', 'rate', 'need', 'password', 'line']\n",
            "\n",
            "\n"
          ],
          "name": "stdout"
        }
      ]
    },
    {
      "cell_type": "code",
      "metadata": {
        "id": "-xugCAOY9Yyq",
        "colab_type": "code",
        "colab": {
          "base_uri": "https://localhost:8080/",
          "height": 34
        },
        "outputId": "cfc43a69-1b35-4d55-ed7e-ec96adbf44ee"
      },
      "source": [
        "topic_values = LDA.transform(X)\n",
        "topic_values.shape"
      ],
      "execution_count": 87,
      "outputs": [
        {
          "output_type": "execute_result",
          "data": {
            "text/plain": [
              "(6, 5)"
            ]
          },
          "metadata": {
            "tags": []
          },
          "execution_count": 87
        }
      ]
    },
    {
      "cell_type": "code",
      "metadata": {
        "id": "kVq8FpUk-SIa",
        "colab_type": "code",
        "colab": {
          "base_uri": "https://localhost:8080/",
          "height": 85
        },
        "outputId": "d49a9218-52e7-4972-d28f-53a2a74378e6"
      },
      "source": [
        "data['Topic'] = pd.Series(topic_values.argmax(axis=1))\n",
        "data['Topic']\n",
        "\n",
        "\n",
        "#product defects, poor services, call quality issues, price issue"
      ],
      "execution_count": 88,
      "outputs": [
        {
          "output_type": "execute_result",
          "data": {
            "text/plain": [
              "0    3\n",
              "1    0\n",
              "2    4\n",
              "Name: Topic, dtype: int64"
            ]
          },
          "metadata": {
            "tags": []
          },
          "execution_count": 88
        }
      ]
    },
    {
      "cell_type": "code",
      "metadata": {
        "id": "Qo6Yf47qQ8xv",
        "colab_type": "code",
        "colab": {
          "base_uri": "https://localhost:8080/",
          "height": 85
        },
        "outputId": "18baa2bf-46fe-4a50-d49c-bfe792424ab3"
      },
      "source": [
        "data['Topic']=data['Topic'].replace([0], 'product defects')\n",
        "data['Topic']= data['Topic'].replace([3], 'poor services')\n",
        "data['Topic']= data['Topic'].replace([4], 'Call Quality issue')\n",
        "data['Topic']\n"
      ],
      "execution_count": 90,
      "outputs": [
        {
          "output_type": "execute_result",
          "data": {
            "text/plain": [
              "0         poor services\n",
              "1       product defects\n",
              "2    Call Quality issue\n",
              "Name: Topic, dtype: object"
            ]
          },
          "metadata": {
            "tags": []
          },
          "execution_count": 90
        }
      ]
    },
    {
      "cell_type": "code",
      "metadata": {
        "id": "gawPV64C-aZh",
        "colab_type": "code",
        "colab": {
          "base_uri": "https://localhost:8080/",
          "height": 142
        },
        "outputId": "1c13a474-d3d8-4964-81cd-94782f5cc708"
      },
      "source": [
        "data.head()"
      ],
      "execution_count": 91,
      "outputs": [
        {
          "output_type": "execute_result",
          "data": {
            "text/html": [
              "<div>\n",
              "<style scoped>\n",
              "    .dataframe tbody tr th:only-of-type {\n",
              "        vertical-align: middle;\n",
              "    }\n",
              "\n",
              "    .dataframe tbody tr th {\n",
              "        vertical-align: top;\n",
              "    }\n",
              "\n",
              "    .dataframe thead th {\n",
              "        text-align: right;\n",
              "    }\n",
              "</style>\n",
              "<table border=\"1\" class=\"dataframe\">\n",
              "  <thead>\n",
              "    <tr style=\"text-align: right;\">\n",
              "      <th></th>\n",
              "      <th>Subject</th>\n",
              "      <th>Description</th>\n",
              "      <th>word_count</th>\n",
              "      <th>word_count1</th>\n",
              "      <th>Topic</th>\n",
              "    </tr>\n",
              "  </thead>\n",
              "  <tbody>\n",
              "    <tr>\n",
              "      <th>0</th>\n",
              "      <td>Not all calls are being forwarded to my email ...</td>\n",
              "      <td>Many calls are coming through on e-mail  but t...</td>\n",
              "      <td>90</td>\n",
              "      <td>12</td>\n",
              "      <td>poor services</td>\n",
              "    </tr>\n",
              "    <tr>\n",
              "      <th>1</th>\n",
              "      <td>password</td>\n",
              "      <td>\\rI have a new employee and need to change th...</td>\n",
              "      <td>49</td>\n",
              "      <td>1</td>\n",
              "      <td>product defects</td>\n",
              "    </tr>\n",
              "    <tr>\n",
              "      <th>2</th>\n",
              "      <td>Rate for additional lines</td>\n",
              "      <td>Can you adjust the two additional lines we hav...</td>\n",
              "      <td>31</td>\n",
              "      <td>4</td>\n",
              "      <td>Call Quality issue</td>\n",
              "    </tr>\n",
              "  </tbody>\n",
              "</table>\n",
              "</div>"
            ],
            "text/plain": [
              "                                             Subject  ...               Topic\n",
              "0  Not all calls are being forwarded to my email ...  ...       poor services\n",
              "1                                           password  ...     product defects\n",
              "2                          Rate for additional lines  ...  Call Quality issue\n",
              "\n",
              "[3 rows x 5 columns]"
            ]
          },
          "metadata": {
            "tags": []
          },
          "execution_count": 91
        }
      ]
    },
    {
      "cell_type": "markdown",
      "metadata": {
        "id": "QO03pxCDGhae",
        "colab_type": "text"
      },
      "source": [
        "We can see next to Subject and its description, what ticket is really about in Topic column."
      ]
    }
  ]
}